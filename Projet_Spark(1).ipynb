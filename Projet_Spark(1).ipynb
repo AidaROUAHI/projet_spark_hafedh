{
 "cells": [
  {
   "cell_type": "code",
   "execution_count": 42,
   "id": "cd84c437",
   "metadata": {},
   "outputs": [
    {
     "name": "stdout",
     "output_type": "stream",
     "text": [
      "Requirement already satisfied: spark in /usr/local/lib/python3.9/dist-packages (0.2.1)\n",
      "\u001b[33mWARNING: Running pip as the 'root' user can result in broken permissions and conflicting behaviour with the system package manager. It is recommended to use a virtual environment instead: https://pip.pypa.io/warnings/venv\u001b[0m\n",
      "Requirement already satisfied: pyspark in /usr/local/lib/python3.9/dist-packages (3.0.0)\n",
      "Requirement already satisfied: py4j==0.10.9 in /usr/local/lib/python3.9/dist-packages (from pyspark) (0.10.9)\n",
      "\u001b[33mWARNING: Running pip as the 'root' user can result in broken permissions and conflicting behaviour with the system package manager. It is recommended to use a virtual environment instead: https://pip.pypa.io/warnings/venv\u001b[0m\n",
      "Name: pyspark\n",
      "Version: 3.0.0\n",
      "Summary: Apache Spark Python API\n",
      "Home-page: https://github.com/apache/spark/tree/master/python\n",
      "Author: Spark Developers\n",
      "Author-email: dev@spark.apache.org\n",
      "License: http://www.apache.org/licenses/LICENSE-2.0\n",
      "Location: /usr/local/lib/python3.9/dist-packages\n",
      "Requires: py4j\n",
      "Required-by: \n",
      "Requirement already satisfied: findspark in /usr/local/lib/python3.9/dist-packages (1.4.2)\n",
      "\u001b[33mWARNING: Running pip as the 'root' user can result in broken permissions and conflicting behaviour with the system package manager. It is recommended to use a virtual environment instead: https://pip.pypa.io/warnings/venv\u001b[0m\n"
     ]
    }
   ],
   "source": [
    "!pip install spark \n",
    "!pip install pyspark\n",
    "!pip show pyspark\n",
    "!pip install findspark"
   ]
  },
  {
   "cell_type": "code",
   "execution_count": 43,
   "id": "c2eaa8fc",
   "metadata": {},
   "outputs": [
    {
     "name": "stdout",
     "output_type": "stream",
     "text": [
      "Name: pyspark\n",
      "Version: 3.0.0\n",
      "Summary: Apache Spark Python API\n",
      "Home-page: https://github.com/apache/spark/tree/master/python\n",
      "Author: Spark Developers\n",
      "Author-email: dev@spark.apache.org\n",
      "License: http://www.apache.org/licenses/LICENSE-2.0\n",
      "Location: /usr/local/lib/python3.9/dist-packages\n",
      "Requires: py4j\n",
      "Required-by: \n"
     ]
    }
   ],
   "source": [
    "!pip show pyspark"
   ]
  },
  {
   "cell_type": "code",
   "execution_count": 44,
   "id": "3940df60",
   "metadata": {},
   "outputs": [],
   "source": [
    "import pyspark\n",
    "import spark\n",
    "import findspark\n",
    "from pyspark import SparkContext"
   ]
  },
  {
   "cell_type": "code",
   "execution_count": 45,
   "id": "1c72d8ee",
   "metadata": {},
   "outputs": [],
   "source": [
    "from pyspark.sql import SparkSession\n",
    "spark = SparkSession.builder.master(\"local[1]\").appName(\"SparkByExamples.com\").getOrCreate()"
   ]
  },
  {
   "cell_type": "code",
   "execution_count": 50,
   "id": "02238864",
   "metadata": {},
   "outputs": [
    {
     "data": {
      "text/plain": [
       "[('On', 3),\n",
       " ('ne', 3),\n",
       " ('change', 2),\n",
       " ('pas', 2),\n",
       " ('met', 1),\n",
       " ('juste', 1),\n",
       " ('les', 1),\n",
       " ('costumes', 1),\n",
       " (\"d'autres\", 1),\n",
       " ('sur', 1),\n",
       " ('soi', 1),\n",
       " ('Une', 1),\n",
       " ('veste', 1),\n",
       " ('cache', 1),\n",
       " (\"qu'un\", 1)]"
      ]
     },
     "execution_count": 50,
     "metadata": {},
     "output_type": "execute_result"
    }
   ],
   "source": [
    "#methode 1\n",
    "textFile = spark.sparkContext.textFile(\"TextFile.txt\").flatMap(lambda line: line.split())\n",
    "WordCount = textFile.map(lambda x: (x, 1)).reduceByKey(lambda a, b: a+b)\n",
    "WordCount.take(15)\n"
   ]
  },
  {
   "cell_type": "code",
   "execution_count": 52,
   "id": "21c837dc",
   "metadata": {},
   "outputs": [
    {
     "data": {
      "text/plain": [
       "[('On', 3),\n",
       " ('ne', 3),\n",
       " ('change', 2),\n",
       " ('pas', 2),\n",
       " ('met', 1),\n",
       " ('juste', 1),\n",
       " ('les', 1),\n",
       " ('costumes', 1),\n",
       " (\"d'autres\", 1),\n",
       " ('sur', 1),\n",
       " ('soi', 1),\n",
       " ('Une', 1),\n",
       " ('veste', 1),\n",
       " ('cache', 1),\n",
       " (\"qu'un\", 1)]"
      ]
     },
     "execution_count": 52,
     "metadata": {},
     "output_type": "execute_result"
    }
   ],
   "source": [
    "#methode 2\n",
    "text_file = spark.sparkContext.textFile(\"TextFile.txt\")\n",
    "WordCount = text_file.flatMap(lambda x: str(x).split(' '))\n",
    "WordCount = WordCount.map( lambda x: (x,1))\n",
    "WordCount = WordCount.reduceByKey(lambda x,y: x + y)\n",
    "WordCount.take(15)"
   ]
  }
 ],
 "metadata": {
  "kernelspec": {
   "display_name": "Python 3 (ipykernel)",
   "language": "python",
   "name": "python3"
  },
  "language_info": {
   "codemirror_mode": {
    "name": "ipython",
    "version": 3
   },
   "file_extension": ".py",
   "mimetype": "text/x-python",
   "name": "python",
   "nbconvert_exporter": "python",
   "pygments_lexer": "ipython3",
   "version": "3.9.2"
  }
 },
 "nbformat": 4,
 "nbformat_minor": 5
}
